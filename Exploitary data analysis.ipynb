{
 "cells": [
  {
   "cell_type": "code",
   "execution_count": 1,
   "id": "81302b6b",
   "metadata": {},
   "outputs": [],
   "source": [
    "#Load the required libraries\n",
    "import pandas as pd\n",
    "import numpy as np\n",
    "import seaborn as sns"
   ]
  },
  {
   "cell_type": "code",
   "execution_count": null,
   "id": "6d489ee0",
   "metadata": {},
   "outputs": [],
   "source": [
    "df = pd.read_csv('C:/Users/hillarykitoyo/Downloads')\n"
   ]
  },
  {
   "cell_type": "code",
   "execution_count": 7,
   "id": "5ced87e0",
   "metadata": {},
   "outputs": [
    {
     "data": {
      "text/html": [
       "<div>\n",
       "<style scoped>\n",
       "    .dataframe tbody tr th:only-of-type {\n",
       "        vertical-align: middle;\n",
       "    }\n",
       "\n",
       "    .dataframe tbody tr th {\n",
       "        vertical-align: top;\n",
       "    }\n",
       "\n",
       "    .dataframe thead th {\n",
       "        text-align: right;\n",
       "    }\n",
       "</style>\n",
       "<table border=\"1\" class=\"dataframe\">\n",
       "  <thead>\n",
       "    <tr style=\"text-align: right;\">\n",
       "      <th></th>\n",
       "      <th>DATE</th>\n",
       "      <th>CODE</th>\n",
       "      <th>NAME</th>\n",
       "      <th>12m Low</th>\n",
       "      <th>12m High</th>\n",
       "      <th>Day Low</th>\n",
       "      <th>Day High</th>\n",
       "      <th>Day Price</th>\n",
       "      <th>Previous</th>\n",
       "      <th>Change</th>\n",
       "      <th>Change%</th>\n",
       "      <th>Volume</th>\n",
       "      <th>Adjust</th>\n",
       "    </tr>\n",
       "  </thead>\n",
       "  <tbody>\n",
       "    <tr>\n",
       "      <th>0</th>\n",
       "      <td>02-Jan-20</td>\n",
       "      <td>EGAD</td>\n",
       "      <td>Eaagads Ltd</td>\n",
       "      <td>8.2</td>\n",
       "      <td>14</td>\n",
       "      <td>10.1</td>\n",
       "      <td>10.1</td>\n",
       "      <td>10.1</td>\n",
       "      <td>10.1</td>\n",
       "      <td>-</td>\n",
       "      <td>-</td>\n",
       "      <td>-</td>\n",
       "      <td>-</td>\n",
       "    </tr>\n",
       "    <tr>\n",
       "      <th>1</th>\n",
       "      <td>02-Jan-20</td>\n",
       "      <td>KUKZ</td>\n",
       "      <td>Kakuzi Plc</td>\n",
       "      <td>300</td>\n",
       "      <td>423.5</td>\n",
       "      <td>340</td>\n",
       "      <td>340</td>\n",
       "      <td>340</td>\n",
       "      <td>340</td>\n",
       "      <td>-</td>\n",
       "      <td>-</td>\n",
       "      <td>-</td>\n",
       "      <td>-</td>\n",
       "    </tr>\n",
       "    <tr>\n",
       "      <th>2</th>\n",
       "      <td>02-Jan-20</td>\n",
       "      <td>KAPC</td>\n",
       "      <td>Kapchorua Tea Kenya Plc</td>\n",
       "      <td>59</td>\n",
       "      <td>95</td>\n",
       "      <td>80</td>\n",
       "      <td>80</td>\n",
       "      <td>80</td>\n",
       "      <td>80</td>\n",
       "      <td>-</td>\n",
       "      <td>-</td>\n",
       "      <td>-</td>\n",
       "      <td>-</td>\n",
       "    </tr>\n",
       "    <tr>\n",
       "      <th>3</th>\n",
       "      <td>02-Jan-20</td>\n",
       "      <td>LIMT</td>\n",
       "      <td>Limuru Tea Plc</td>\n",
       "      <td>385</td>\n",
       "      <td>475</td>\n",
       "      <td>450</td>\n",
       "      <td>450</td>\n",
       "      <td>450</td>\n",
       "      <td>450</td>\n",
       "      <td>-</td>\n",
       "      <td>-</td>\n",
       "      <td>-</td>\n",
       "      <td>-</td>\n",
       "    </tr>\n",
       "    <tr>\n",
       "      <th>4</th>\n",
       "      <td>02-Jan-20</td>\n",
       "      <td>SASN</td>\n",
       "      <td>Sasini Plc</td>\n",
       "      <td>14.8</td>\n",
       "      <td>19.6</td>\n",
       "      <td>16.15</td>\n",
       "      <td>16.15</td>\n",
       "      <td>16.15</td>\n",
       "      <td>16.9</td>\n",
       "      <td>-0.75</td>\n",
       "      <td>4.44%</td>\n",
       "      <td>300</td>\n",
       "      <td>-</td>\n",
       "    </tr>\n",
       "  </tbody>\n",
       "</table>\n",
       "</div>"
      ],
      "text/plain": [
       "        DATE  CODE                     NAME 12m Low 12m High Day Low Day High  \\\n",
       "0  02-Jan-20  EGAD              Eaagads Ltd     8.2       14    10.1     10.1   \n",
       "1  02-Jan-20  KUKZ               Kakuzi Plc     300    423.5     340      340   \n",
       "2  02-Jan-20  KAPC  Kapchorua Tea Kenya Plc      59       95      80       80   \n",
       "3  02-Jan-20  LIMT           Limuru Tea Plc     385      475     450      450   \n",
       "4  02-Jan-20  SASN               Sasini Plc    14.8     19.6   16.15    16.15   \n",
       "\n",
       "  Day Price Previous Change Change% Volume Adjust  \n",
       "0      10.1     10.1      -       -      -      -  \n",
       "1       340      340      -       -      -      -  \n",
       "2        80       80      -       -      -      -  \n",
       "3       450      450      -       -      -      -  \n",
       "4     16.15     16.9  -0.75   4.44%    300      -  "
      ]
     },
     "execution_count": 7,
     "metadata": {},
     "output_type": "execute_result"
    }
   ],
   "source": [
    "df.head()"
   ]
  },
  {
   "cell_type": "code",
   "execution_count": 8,
   "id": "97d00393",
   "metadata": {},
   "outputs": [
    {
     "data": {
      "text/plain": [
       "0"
      ]
     },
     "execution_count": 8,
     "metadata": {},
     "output_type": "execute_result"
    }
   ],
   "source": [
    "df.duplicated().sum()"
   ]
  },
  {
   "cell_type": "code",
   "execution_count": null,
   "id": "9e6c01de",
   "metadata": {},
   "outputs": [
    {
     "data": {
      "text/plain": [
       "DATE         object\n",
       "CODE         object\n",
       "NAME         object\n",
       "12m Low      object\n",
       "12m High     object\n",
       "Day Low      object\n",
       "Day High     object\n",
       "Day Price    object\n",
       "Previous     object\n",
       "Change       object\n",
       "Change%      object\n",
       "Volume       object\n",
       "Adjust       object\n",
       "dtype: object"
      ]
     },
     "execution_count": 9,
     "metadata": {},
     "output_type": "execute_result"
    }
   ],
   "source": [
    "df.dtypes"
   ]
  },
  {
   "cell_type": "code",
   "execution_count": null,
   "id": "733e84a4",
   "metadata": {},
   "outputs": [
    {
     "ename": "SyntaxError",
     "evalue": "invalid syntax (749634747.py, line 1)",
     "output_type": "error",
     "traceback": [
      "\u001b[1;36m  Input \u001b[1;32mIn [10]\u001b[1;36m\u001b[0m\n\u001b[1;33m    print col()\u001b[0m\n\u001b[1;37m          ^\u001b[0m\n\u001b[1;31mSyntaxError\u001b[0m\u001b[1;31m:\u001b[0m invalid syntax\n"
     ]
    }
   ],
   "source": [
    "print col()"
   ]
  },
  {
   "cell_type": "code",
   "execution_count": 12,
   "id": "92feb0f9",
   "metadata": {},
   "outputs": [
    {
     "ename": "NameError",
     "evalue": "name 'data' is not defined",
     "output_type": "error",
     "traceback": [
      "\u001b[1;31m---------------------------------------------------------------------------\u001b[0m",
      "\u001b[1;31mNameError\u001b[0m                                 Traceback (most recent call last)",
      "Input \u001b[1;32mIn [12]\u001b[0m, in \u001b[0;36m<cell line: 1>\u001b[1;34m()\u001b[0m\n\u001b[1;32m----> 1\u001b[0m cat_cols\u001b[38;5;241m=\u001b[39m\u001b[43mdata\u001b[49m\u001b[38;5;241m.\u001b[39mselect_dtypes\u001b[38;5;241m.\u001b[39mcolumns\n\u001b[0;32m      2\u001b[0m num_cols \u001b[38;5;241m=\u001b[39m data\u001b[38;5;241m.\u001b[39mselect_dtypes(include\u001b[38;5;241m=\u001b[39mnp\u001b[38;5;241m.\u001b[39mnumber)\u001b[38;5;241m.\u001b[39mcolumns\u001b[38;5;241m.\u001b[39mto()\n\u001b[0;32m      3\u001b[0m \u001b[38;5;28mprint\u001b[39m(\u001b[38;5;124m\"\u001b[39m\u001b[38;5;124mCategorical Variables:\u001b[39m\u001b[38;5;124m\"\u001b[39m)\n",
      "\u001b[1;31mNameError\u001b[0m: name 'data' is not defined"
     ]
    }
   ],
   "source": [
    "cat_cols=data.select_dtypes.columns\n",
    "num_cols = data.select_dtypes(include=np.number).columns.to()\n",
    "print(\"Categorical Variables:\")\n",
    "print(cat_cols)\n",
    "print(\"Numerical Variables:\")\n",
    "print(num_cols)"
   ]
  },
  {
   "cell_type": "code",
   "execution_count": 13,
   "id": "fe501791",
   "metadata": {},
   "outputs": [
    {
     "ename": "NameError",
     "evalue": "name 'num_cols' is not defined",
     "output_type": "error",
     "traceback": [
      "\u001b[1;31m---------------------------------------------------------------------------\u001b[0m",
      "\u001b[1;31mNameError\u001b[0m                                 Traceback (most recent call last)",
      "Input \u001b[1;32mIn [13]\u001b[0m, in \u001b[0;36m<cell line: 1>\u001b[1;34m()\u001b[0m\n\u001b[1;32m----> 1\u001b[0m \u001b[38;5;28;01mfor\u001b[39;00m col \u001b[38;5;129;01min\u001b[39;00m \u001b[43mnum_cols\u001b[49m:\n\u001b[0;32m      2\u001b[0m     \u001b[38;5;28mprint\u001b[39m(col)\n\u001b[0;32m      3\u001b[0m     \u001b[38;5;28mprint\u001b[39m(\u001b[38;5;124m'\u001b[39m\u001b[38;5;124mSkew :\u001b[39m\u001b[38;5;124m'\u001b[39m, \u001b[38;5;28mround\u001b[39m(data[col]\u001b[38;5;241m.\u001b[39mskew(), \u001b[38;5;241m2\u001b[39m))\n",
      "\u001b[1;31mNameError\u001b[0m: name 'num_cols' is not defined"
     ]
    }
   ],
   "source": [
    "for col in num_cols:\n",
    "    print(col)\n",
    "    print('Skew :', round(data[col].skew(), 2))\n",
    "    plt.figure(figsize = (15, 4))\n",
    "    plt.subplot(1, 2, 1)\n",
    "    data[col].hist(grid=False)\n",
    "    plt.ylabel('count')\n",
    "    plt.subplot(1, 2, 2)\n",
    "    sns.boxplot(x=data[col])\n",
    "    plt.show()"
   ]
  },
  {
   "cell_type": "code",
   "execution_count": 14,
   "id": "2174c6d8",
   "metadata": {},
   "outputs": [
    {
     "ename": "SyntaxError",
     "evalue": "invalid syntax (1032222551.py, line 1)",
     "output_type": "error",
     "traceback": [
      "\u001b[1;36m  Input \u001b[1;32mIn [14]\u001b[1;36m\u001b[0m\n\u001b[1;33m    Log transformation of the feature '12m High'\u001b[0m\n\u001b[1;37m        ^\u001b[0m\n\u001b[1;31mSyntaxError\u001b[0m\u001b[1;31m:\u001b[0m invalid syntax\n"
     ]
    }
   ],
   "source": [
    "Log transformation of the feature '12m High'\n",
    "sns.distplot(data[\"\tDay Low\"], axlabel=\"Day Price\");"
   ]
  },
  {
   "cell_type": "code",
   "execution_count": 15,
   "id": "466dd17d",
   "metadata": {},
   "outputs": [
    {
     "data": {
      "text/html": [
       "<div>\n",
       "<style scoped>\n",
       "    .dataframe tbody tr th:only-of-type {\n",
       "        vertical-align: middle;\n",
       "    }\n",
       "\n",
       "    .dataframe tbody tr th {\n",
       "        vertical-align: top;\n",
       "    }\n",
       "\n",
       "    .dataframe thead th {\n",
       "        text-align: right;\n",
       "    }\n",
       "</style>\n",
       "<table border=\"1\" class=\"dataframe\">\n",
       "  <thead>\n",
       "    <tr style=\"text-align: right;\">\n",
       "      <th></th>\n",
       "      <th>DATE</th>\n",
       "      <th>CODE</th>\n",
       "      <th>NAME</th>\n",
       "      <th>12m Low</th>\n",
       "      <th>12m High</th>\n",
       "      <th>Day Low</th>\n",
       "      <th>Day High</th>\n",
       "      <th>Day Price</th>\n",
       "      <th>Previous</th>\n",
       "      <th>Change</th>\n",
       "      <th>Change%</th>\n",
       "      <th>Volume</th>\n",
       "      <th>Adjust</th>\n",
       "    </tr>\n",
       "  </thead>\n",
       "  <tbody>\n",
       "    <tr>\n",
       "      <th>0</th>\n",
       "      <td>02-Jan-20</td>\n",
       "      <td>EGAD</td>\n",
       "      <td>Eaagads Ltd</td>\n",
       "      <td>8.2</td>\n",
       "      <td>14</td>\n",
       "      <td>10.1</td>\n",
       "      <td>10.1</td>\n",
       "      <td>10.1</td>\n",
       "      <td>10.1</td>\n",
       "      <td>-</td>\n",
       "      <td>-</td>\n",
       "      <td>-</td>\n",
       "      <td>-</td>\n",
       "    </tr>\n",
       "    <tr>\n",
       "      <th>1</th>\n",
       "      <td>02-Jan-20</td>\n",
       "      <td>KUKZ</td>\n",
       "      <td>Kakuzi Plc</td>\n",
       "      <td>300</td>\n",
       "      <td>423.5</td>\n",
       "      <td>340</td>\n",
       "      <td>340</td>\n",
       "      <td>340</td>\n",
       "      <td>340</td>\n",
       "      <td>-</td>\n",
       "      <td>-</td>\n",
       "      <td>-</td>\n",
       "      <td>-</td>\n",
       "    </tr>\n",
       "    <tr>\n",
       "      <th>2</th>\n",
       "      <td>02-Jan-20</td>\n",
       "      <td>KAPC</td>\n",
       "      <td>Kapchorua Tea Kenya Plc</td>\n",
       "      <td>59</td>\n",
       "      <td>95</td>\n",
       "      <td>80</td>\n",
       "      <td>80</td>\n",
       "      <td>80</td>\n",
       "      <td>80</td>\n",
       "      <td>-</td>\n",
       "      <td>-</td>\n",
       "      <td>-</td>\n",
       "      <td>-</td>\n",
       "    </tr>\n",
       "    <tr>\n",
       "      <th>3</th>\n",
       "      <td>02-Jan-20</td>\n",
       "      <td>LIMT</td>\n",
       "      <td>Limuru Tea Plc</td>\n",
       "      <td>385</td>\n",
       "      <td>475</td>\n",
       "      <td>450</td>\n",
       "      <td>450</td>\n",
       "      <td>450</td>\n",
       "      <td>450</td>\n",
       "      <td>-</td>\n",
       "      <td>-</td>\n",
       "      <td>-</td>\n",
       "      <td>-</td>\n",
       "    </tr>\n",
       "    <tr>\n",
       "      <th>4</th>\n",
       "      <td>02-Jan-20</td>\n",
       "      <td>SASN</td>\n",
       "      <td>Sasini Plc</td>\n",
       "      <td>14.8</td>\n",
       "      <td>19.6</td>\n",
       "      <td>16.15</td>\n",
       "      <td>16.15</td>\n",
       "      <td>16.15</td>\n",
       "      <td>16.9</td>\n",
       "      <td>-0.75</td>\n",
       "      <td>4.44%</td>\n",
       "      <td>300</td>\n",
       "      <td>-</td>\n",
       "    </tr>\n",
       "  </tbody>\n",
       "</table>\n",
       "</div>"
      ],
      "text/plain": [
       "        DATE  CODE                     NAME 12m Low 12m High Day Low Day High  \\\n",
       "0  02-Jan-20  EGAD              Eaagads Ltd     8.2       14    10.1     10.1   \n",
       "1  02-Jan-20  KUKZ               Kakuzi Plc     300    423.5     340      340   \n",
       "2  02-Jan-20  KAPC  Kapchorua Tea Kenya Plc      59       95      80       80   \n",
       "3  02-Jan-20  LIMT           Limuru Tea Plc     385      475     450      450   \n",
       "4  02-Jan-20  SASN               Sasini Plc    14.8     19.6   16.15    16.15   \n",
       "\n",
       "  Day Price Previous Change Change% Volume Adjust  \n",
       "0      10.1     10.1      -       -      -      -  \n",
       "1       340      340      -       -      -      -  \n",
       "2        80       80      -       -      -      -  \n",
       "3       450      450      -       -      -      -  \n",
       "4     16.15     16.9  -0.75   4.44%    300      -  "
      ]
     },
     "execution_count": 15,
     "metadata": {},
     "output_type": "execute_result"
    }
   ],
   "source": [
    "df.head()"
   ]
  },
  {
   "cell_type": "code",
   "execution_count": null,
   "id": "a39d5a94",
   "metadata": {},
   "outputs": [],
   "source": []
  }
 ],
 "metadata": {
  "kernelspec": {
   "display_name": "Python 3 (ipykernel)",
   "language": "python",
   "name": "python3"
  },
  "language_info": {
   "codemirror_mode": {
    "name": "ipython",
    "version": 3
   },
   "file_extension": ".py",
   "mimetype": "text/x-python",
   "name": "python",
   "nbconvert_exporter": "python",
   "pygments_lexer": "ipython3",
   "version": "3.9.12"
  }
 },
 "nbformat": 4,
 "nbformat_minor": 5
}
